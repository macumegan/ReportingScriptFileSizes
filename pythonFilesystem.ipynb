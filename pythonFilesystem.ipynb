{
 "cells": [
  {
   "cell_type": "markdown",
   "metadata": {},
   "source": [
    "Yields the 'current' dir, then the directories, and then any files it finds\n",
    "for each level it traverses"
   ]
  },
  {
   "cell_type": "code",
   "execution_count": null,
   "metadata": {},
   "outputs": [],
   "source": [
    "import os\n",
    "\n",
    "for path_info in os.walk('.'):\n",
    "    print(path_info)\n",
    "    break"
   ]
  },
  {
   "cell_type": "markdown",
   "metadata": {},
   "source": [
    "Producing absolute paths, instead of a tuple of three items"
   ]
  },
  {
   "cell_type": "code",
   "execution_count": null,
   "metadata": {},
   "outputs": [],
   "source": [
    "import os\n",
    "from os.path import abspath, join\n",
    "\n",
    "for top_dir, directories, files in os.walk('.'):\n",
    "    for directory in directories:\n",
    "        print(abspath(join(top_dir, directory)))\n",
    "    for _file in files:\n",
    "        print(abspath(join(top_dir, _file)))\n",
    "    break"
   ]
  },
  {
   "cell_type": "markdown",
   "metadata": {},
   "source": [
    "Now that absolute paths are shown, we can inspect them for file metadata"
   ]
  },
  {
   "cell_type": "code",
   "execution_count": null,
   "metadata": {},
   "outputs": [],
   "source": [
    "\n",
    "import os\n",
    "from os.path import abspath, join, getsize\n",
    "\n",
    "sizes = {}\n",
    "\n",
    "for top_dir, directories, files in os.walk('.'):\n",
    "    for _file in files:\n",
    "        full_path = abspath(join(top_dir, _file))\n",
    "        size = getsize(full_path)\n",
    "        sizes[full_path] = size\n",
    "        #break\n",
    "\n",
    "sorted_results = sorted(sizes, key=sizes.get, reverse=True)\n",
    "\n",
    "for path in sorted_results[:20]:\n",
    "    print(\"Path: {0}, size: {1}\".format(path, sizes[path]))"
   ]
  }
 ],
 "metadata": {
  "language_info": {
   "name": "python"
  },
  "orig_nbformat": 4
 },
 "nbformat": 4,
 "nbformat_minor": 2
}
